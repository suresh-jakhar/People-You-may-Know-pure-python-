{
 "cells": [
  {
   "cell_type": "code",
   "execution_count": 13,
   "id": "7b9e286c-b1b2-4480-a2fb-1e1e0cef51c5",
   "metadata": {},
   "outputs": [
    {
     "name": "stdout",
     "output_type": "stream",
     "text": [
      "[4, 6, 8, 7, 11, 12]\n"
     ]
    }
   ],
   "source": [
    "import json\n",
    "\n",
    "def load_data(filename):\n",
    "    with open (filename, \"r\") as f:\n",
    "        return json.load(f)\n",
    "\n",
    "\n",
    "def find_people_you_may_know(user_id, data ):\n",
    "    user_friends ={}\n",
    "    for user in data['users']:\n",
    "        user_friends[user['id']] = set (user['friends']) \n",
    "\n",
    "    if user_id not in user_friends:\n",
    "        return []\n",
    "\n",
    "    direct_friends = user_friends[user_id]\n",
    "    suggestions = {}\n",
    "    for friend in direct_friends:\n",
    "        for mutual  in user_friends[friend]:\n",
    "            if mutual!= user_id and mutual not in direct_friends:\n",
    "\n",
    "                #count mutual friends\n",
    "                suggestions[mutual] = suggestions.get(mutual, 0)+1\n",
    "    sorted_suggestions = sorted(suggestions.items(), key= lambda x:x[1], reverse=True)\n",
    "    return [user_id for user_id , mutual_count in sorted_suggestions]\n",
    "    \n",
    "    \n",
    "\n",
    "\n",
    "\n",
    "#load the data\n",
    "data = load_data(\"massive_data.json\")\n",
    "user_id =1\n",
    "recc = find_people_you_may_know(user_id, data)\n",
    "print(recc)"
   ]
  },
  {
   "cell_type": "code",
   "execution_count": null,
   "id": "4df4e786-883a-4c82-8baa-14fb087c9fb2",
   "metadata": {},
   "outputs": [],
   "source": []
  },
  {
   "cell_type": "code",
   "execution_count": null,
   "id": "9180e17e-62ea-467c-9480-0c637c27352d",
   "metadata": {},
   "outputs": [],
   "source": []
  }
 ],
 "metadata": {
  "kernelspec": {
   "display_name": "Python [conda env:base] *",
   "language": "python",
   "name": "conda-base-py"
  },
  "language_info": {
   "codemirror_mode": {
    "name": "ipython",
    "version": 3
   },
   "file_extension": ".py",
   "mimetype": "text/x-python",
   "name": "python",
   "nbconvert_exporter": "python",
   "pygments_lexer": "ipython3",
   "version": "3.12.7"
  }
 },
 "nbformat": 4,
 "nbformat_minor": 5
}
